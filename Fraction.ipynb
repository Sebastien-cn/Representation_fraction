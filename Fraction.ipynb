{
 "cells": [
  {
   "cell_type": "markdown",
   "id": "69c7535e",
   "metadata": {},
   "source": [
    "- Nom: SEPC\n",
    "- Date: 26/11/2023"
   ]
  },
  {
   "cell_type": "markdown",
   "id": "8bff5722",
   "metadata": {},
   "source": [
    "Sujet : Nous voulons représenter des fractions.\n",
    "\n",
    "Définir une fonction Fraction permettant de créer et d’afficher des fractions.\n",
    "\n",
    "Par exemple :\n",
    "\n",
    "Fraction ( 3 , 4 ) pourra afficher : “ 3 / 4 ”.\n",
    "\n",
    "Pensez à documenter la fonction à l’aide de docstring."
   ]
  },
  {
   "cell_type": "code",
   "execution_count": null,
   "id": "3f94dc0e",
   "metadata": {},
   "outputs": [],
   "source": [
    "# Importation des bibliothèques\n",
    "from fractions import Fraction\n",
    "import sympy as sy "
   ]
  },
  {
   "cell_type": "markdown",
   "id": "852d61f9",
   "metadata": {},
   "source": [
    "Fonction qui demande à l'utilisateur de saisir un nombre avec contrôle de saisie"
   ]
  },
  {
   "cell_type": "code",
   "execution_count": null,
   "id": "50a3a401",
   "metadata": {},
   "outputs": [],
   "source": [
    "def demande(message):\n",
    "    \"\"\"\n",
    "    Argument:\n",
    "    message - reçois le message indiqué dans l'appel de la fonction\n",
    "    \n",
    "    return - nb\n",
    "    \"\"\"\n",
    "    try:        \n",
    "        nb = int(input(message))\n",
    "    except:\n",
    "        print(\"Saisissez une valeur numérique!\")\n",
    "    return nb"
   ]
  },
  {
   "cell_type": "markdown",
   "id": "d70ac15b",
   "metadata": {},
   "source": [
    "Demander le nombre de fractions à saisir.\n",
    "\n",
    "Saisir les valeurs des numérateurs et dénominateurs pour chaque fraction.\n",
    "\n",
    "Afficher les fractions."
   ]
  },
  {
   "cell_type": "code",
   "execution_count": null,
   "id": "9c3cf7a3",
   "metadata": {},
   "outputs": [],
   "source": [
    "k = 0\n",
    "nbFraction = demande(\"Combien de fraction voulez vous créer? \")\n",
    "# Boucle pour la saisie des numérateurs et dénominateur puis l'affichage des fractions\n",
    "for k in range (nbFraction):\n",
    "    val1 = demande(\"Saisissez le numérateur ! \")\n",
    "    val2 = demande(\"Saisissez le dénominateur ! \")    \n",
    "    print(Fraction(val1,val2))    "
   ]
  }
 ],
 "metadata": {
  "kernelspec": {
   "display_name": "Python 3 (ipykernel)",
   "language": "python",
   "name": "python3"
  },
  "language_info": {
   "codemirror_mode": {
    "name": "ipython",
    "version": 3
   },
   "file_extension": ".py",
   "mimetype": "text/x-python",
   "name": "python",
   "nbconvert_exporter": "python",
   "pygments_lexer": "ipython3",
   "version": "3.11.5"
  }
 },
 "nbformat": 4,
 "nbformat_minor": 5
}
